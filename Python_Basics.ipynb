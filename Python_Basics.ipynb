{
  "nbformat": 4,
  "nbformat_minor": 0,
  "metadata": {
    "colab": {
      "name": "Python Basics.ipynb",
      "provenance": [],
      "collapsed_sections": [
        "REgWXe72c0NE",
        "ztgXIeXlc-WU",
        "b715fT-mdqcz",
        "PkSjxoWWkqLA",
        "OqIC0twlX6Vx",
        "6JWjXaUieiju",
        "jg1yYxjsuBKE"
      ]
    },
    "kernelspec": {
      "name": "python3",
      "display_name": "Python 3"
    },
    "language_info": {
      "name": "python"
    }
  },
  "cells": [
    {
      "cell_type": "markdown",
      "source": [
        "#Python Basics\n",
        "\n"
      ],
      "metadata": {
        "id": "g1GpmbCGZ6Gl"
      }
    },
    {
      "cell_type": "markdown",
      "source": [
        "Python consist of\n",
        "\n",
        "> Data Types\n",
        "*   Numbers\n",
        "*   Strings\n",
        "*   Printing\n",
        "*   Booleans\n",
        "*   List\n",
        "*   Dictonaries\n",
        "*   Tuples\n",
        "*   Sets\n",
        "\n",
        "> Operators\n",
        "*   Arithmetic operators\n",
        "*   Assignment operators\n",
        "*   Comparison operators\n",
        "*   Logical operators\n",
        "\n",
        "> Conditions\n",
        "*   if Statement\n",
        "*   elif Statement\n",
        "*   else Statement\n",
        "\n",
        "> Loops\n",
        "*   for Loop\n",
        "*   while Loop\n"
      ],
      "metadata": {
        "id": "b2ZJ-yQcaB3j"
      }
    },
    {
      "cell_type": "markdown",
      "source": [
        "## Data Types\n",
        "\n",
        "```\n",
        "Text Type      :\tstr\n",
        "Numeric Types  :\tint, float, complex\n",
        "Sequence Types :\tlist, tuple, range\n",
        "Mapping Type   :\tdict\n",
        "Set Types      :\tset\n",
        "Boolean Type   :\tbool\n",
        "Binary Types   :\tbytes\n",
        "```\n",
        "\n"
      ],
      "metadata": {
        "id": "REgWXe72c0NE"
      }
    },
    {
      "cell_type": "markdown",
      "source": [
        "#### Numbers"
      ],
      "metadata": {
        "id": "ztgXIeXlc-WU"
      }
    },
    {
      "cell_type": "code",
      "source": [
        "1 + 1 #we can Add numbers"
      ],
      "metadata": {
        "colab": {
          "base_uri": "https://localhost:8080/"
        },
        "id": "vaxTB3t1c9ny",
        "outputId": "8125d439-ff63-4bc5-eba3-3e97d6814c2a"
      },
      "execution_count": null,
      "outputs": [
        {
          "output_type": "execute_result",
          "data": {
            "text/plain": [
              "2"
            ]
          },
          "metadata": {},
          "execution_count": 8
        }
      ]
    },
    {
      "cell_type": "code",
      "source": [
        "55-24 # we can Substract numbers"
      ],
      "metadata": {
        "colab": {
          "base_uri": "https://localhost:8080/"
        },
        "id": "ZJlAg-0YeH8c",
        "outputId": "de2fabc3-1567-4da6-fb45-846d04639516"
      },
      "execution_count": null,
      "outputs": [
        {
          "output_type": "execute_result",
          "data": {
            "text/plain": [
              "31"
            ]
          },
          "metadata": {},
          "execution_count": 9
        }
      ]
    },
    {
      "cell_type": "code",
      "execution_count": null,
      "metadata": {
        "colab": {
          "base_uri": "https://localhost:8080/"
        },
        "id": "iMqt4M4gZy5_",
        "outputId": "a114fd6d-3373-48e9-8a92-480223efbde6"
      },
      "outputs": [
        {
          "output_type": "execute_result",
          "data": {
            "text/plain": [
              "5"
            ]
          },
          "metadata": {},
          "execution_count": 2
        }
      ],
      "source": [
        "1 * 5 # we can Multiply numbers"
      ]
    },
    {
      "cell_type": "code",
      "source": [
        "25445 /25 # we can Divide numbers"
      ],
      "metadata": {
        "colab": {
          "base_uri": "https://localhost:8080/"
        },
        "id": "zgyKvQqXdR6S",
        "outputId": "3d0188e0-5225-467d-9859-a7fca56a9adc"
      },
      "execution_count": null,
      "outputs": [
        {
          "output_type": "execute_result",
          "data": {
            "text/plain": [
              "1017.8"
            ]
          },
          "metadata": {},
          "execution_count": 3
        }
      ]
    },
    {
      "cell_type": "code",
      "source": [
        "127%7 # we can find Mod of numbers"
      ],
      "metadata": {
        "colab": {
          "base_uri": "https://localhost:8080/"
        },
        "id": "ZOH4qTlVdUjB",
        "outputId": "8d90be5f-59c4-491f-dd25-d940cff8a1ab"
      },
      "execution_count": null,
      "outputs": [
        {
          "output_type": "execute_result",
          "data": {
            "text/plain": [
              "1"
            ]
          },
          "metadata": {},
          "execution_count": 4
        }
      ]
    },
    {
      "cell_type": "code",
      "source": [
        "8 ** 4 # we can find power of numbers"
      ],
      "metadata": {
        "colab": {
          "base_uri": "https://localhost:8080/"
        },
        "id": "U5CucFyidYlZ",
        "outputId": "ada17ac7-6998-4978-906d-a1c07fdeb34b"
      },
      "execution_count": null,
      "outputs": [
        {
          "output_type": "execute_result",
          "data": {
            "text/plain": [
              "4096"
            ]
          },
          "metadata": {},
          "execution_count": 5
        }
      ]
    },
    {
      "cell_type": "code",
      "source": [
        "(2*5)*(8*3) # we can do complex solution"
      ],
      "metadata": {
        "colab": {
          "base_uri": "https://localhost:8080/"
        },
        "id": "8B1BBBcedg0n",
        "outputId": "964465b3-72f6-4ae5-92e0-18832bbaf332"
      },
      "execution_count": null,
      "outputs": [
        {
          "output_type": "execute_result",
          "data": {
            "text/plain": [
              "240"
            ]
          },
          "metadata": {},
          "execution_count": 6
        }
      ]
    },
    {
      "cell_type": "markdown",
      "source": [
        "#### Strings\n",
        "\n",
        "Variable Assigning:\n"
      ],
      "metadata": {
        "id": "b715fT-mdqcz"
      }
    },
    {
      "cell_type": "code",
      "source": [
        "# The values can be store in a name called Variable, by this when ever we want to use this value then we can call it by the variable name.\n",
        "\n",
        "x = 2\n",
        "y = 6\n",
        "a = 58\n",
        "b = 24"
      ],
      "metadata": {
        "id": "H_cJ0RRTdlmV"
      },
      "execution_count": null,
      "outputs": []
    },
    {
      "cell_type": "code",
      "source": [
        "z = x ** y\n",
        "print(z)"
      ],
      "metadata": {
        "colab": {
          "base_uri": "https://localhost:8080/"
        },
        "id": "h8B3M7cjd9Mj",
        "outputId": "9ec2fba9-8d95-4169-803e-9f7b1c82c922"
      },
      "execution_count": null,
      "outputs": [
        {
          "output_type": "stream",
          "name": "stdout",
          "text": [
            "64\n"
          ]
        }
      ]
    },
    {
      "cell_type": "code",
      "source": [
        "c = a - b\n",
        "print(c)"
      ],
      "metadata": {
        "colab": {
          "base_uri": "https://localhost:8080/"
        },
        "id": "i07-dZEJfB4F",
        "outputId": "861ded0e-0cbe-4ba5-b150-e5be0448b60c"
      },
      "execution_count": null,
      "outputs": [
        {
          "output_type": "stream",
          "name": "stdout",
          "text": [
            "34\n"
          ]
        }
      ]
    },
    {
      "cell_type": "code",
      "source": [
        "'Single quotes'"
      ],
      "metadata": {
        "colab": {
          "base_uri": "https://localhost:8080/",
          "height": 35
        },
        "id": "ZtugUmMufNIX",
        "outputId": "5abcbb87-5777-4687-fcfd-6e5074f88e73"
      },
      "execution_count": null,
      "outputs": [
        {
          "output_type": "execute_result",
          "data": {
            "application/vnd.google.colaboratory.intrinsic+json": {
              "type": "string"
            },
            "text/plain": [
              "'Single quotes'"
            ]
          },
          "metadata": {},
          "execution_count": 15
        }
      ]
    },
    {
      "cell_type": "code",
      "source": [
        "\"Double quotes\""
      ],
      "metadata": {
        "colab": {
          "base_uri": "https://localhost:8080/",
          "height": 35
        },
        "id": "59Nc5_g5fXMG",
        "outputId": "656cf7a4-70d3-4dbd-fd31-eb0ffe0f7a8c"
      },
      "execution_count": null,
      "outputs": [
        {
          "output_type": "execute_result",
          "data": {
            "application/vnd.google.colaboratory.intrinsic+json": {
              "type": "string"
            },
            "text/plain": [
              "'Double quotes'"
            ]
          },
          "metadata": {},
          "execution_count": 16
        }
      ]
    },
    {
      "cell_type": "code",
      "source": [
        "# Variables are not only used to store numbers it can store any data type\n",
        "\n",
        "x = \"Hello\"\n",
        "y = 35.44\n",
        "z = 25"
      ],
      "metadata": {
        "id": "TlqeBkGHfv0p"
      },
      "execution_count": null,
      "outputs": []
    },
    {
      "cell_type": "markdown",
      "source": [
        "Print function"
      ],
      "metadata": {
        "id": "XiuHbmnwfhd1"
      }
    },
    {
      "cell_type": "code",
      "source": [
        "print(x)"
      ],
      "metadata": {
        "colab": {
          "base_uri": "https://localhost:8080/"
        },
        "id": "rug1SuuLfa5J",
        "outputId": "c34e1d7e-d0c5-44d4-dfe9-03100eb57db2"
      },
      "execution_count": null,
      "outputs": [
        {
          "output_type": "stream",
          "name": "stdout",
          "text": [
            "Hello\n"
          ]
        }
      ]
    },
    {
      "cell_type": "code",
      "source": [
        "# by this approch in the code we only need to change data in variable so the main code will change it self \n",
        "name = \"Rob\"\n",
        "age = 25\n",
        "email = \"abc@xyz.com\"\n",
        "mobile = 999999999"
      ],
      "metadata": {
        "id": "xKQE23HAg4Um"
      },
      "execution_count": null,
      "outputs": []
    },
    {
      "cell_type": "code",
      "source": [
        "print('Hi my name is {}, and my age is {}, my email id is {}, and mobile number is {}'.format(name, age, email, mobile))"
      ],
      "metadata": {
        "colab": {
          "base_uri": "https://localhost:8080/"
        },
        "id": "CLqA9jK7hKBK",
        "outputId": "6e223453-06e7-4248-a775-56386e0d05f8"
      },
      "execution_count": null,
      "outputs": [
        {
          "output_type": "stream",
          "name": "stdout",
          "text": [
            "Hi my name is Rob, and my age is 25, my email id is abc@xyz.com, and mobile number is 999999999\n"
          ]
        }
      ]
    },
    {
      "cell_type": "markdown",
      "source": [
        "Boolens represent one of two values: True or False."
      ],
      "metadata": {
        "id": "hdFYLsA5j0oF"
      }
    },
    {
      "cell_type": "markdown",
      "source": [
        "#### List"
      ],
      "metadata": {
        "id": "PkSjxoWWkqLA"
      }
    },
    {
      "cell_type": "markdown",
      "source": [
        "*   Lists are used to store multiple items in a single variable.\n",
        "*   Lists are created using square brackets"
      ],
      "metadata": {
        "id": "wqcFIVD3A5I9"
      }
    },
    {
      "cell_type": "code",
      "source": [
        "li = ['Red', 'Orange', 'White', 'Black', 'Green', 'Blue', 'Grey', 'Yellow']"
      ],
      "metadata": {
        "id": "7LVdDJp7hs8l"
      },
      "execution_count": null,
      "outputs": []
    },
    {
      "cell_type": "code",
      "source": [
        "print(li)"
      ],
      "metadata": {
        "colab": {
          "base_uri": "https://localhost:8080/"
        },
        "id": "VyWji1SICP6P",
        "outputId": "7a798570-1b8f-419f-807c-ffbe42b59f1a"
      },
      "execution_count": null,
      "outputs": [
        {
          "output_type": "stream",
          "name": "stdout",
          "text": [
            "['Red', 'Orange', 'White', 'Black', 'Green', 'Blue', 'Grey', 'Yellow']\n"
          ]
        }
      ]
    },
    {
      "cell_type": "code",
      "source": [
        "# len() function is used to find the count of items available in list\n",
        "print(len(li))"
      ],
      "metadata": {
        "colab": {
          "base_uri": "https://localhost:8080/"
        },
        "id": "MT26ZQpnCWW_",
        "outputId": "5703c387-f02b-4cba-9b59-ee747945c2e6"
      },
      "execution_count": null,
      "outputs": [
        {
          "output_type": "stream",
          "name": "stdout",
          "text": [
            "8\n"
          ]
        }
      ]
    },
    {
      "cell_type": "code",
      "source": [
        "# List can store any data tye in it\n",
        "li1 = [\"Car\", 18, True, 24.43, \"Dell\"]\n",
        "print(li1)"
      ],
      "metadata": {
        "colab": {
          "base_uri": "https://localhost:8080/"
        },
        "id": "MmEMwoinCzlA",
        "outputId": "3287e92f-9c93-44d4-c1be-2a2bf7bdae42"
      },
      "execution_count": null,
      "outputs": [
        {
          "output_type": "stream",
          "name": "stdout",
          "text": [
            "['Car', 18, True, 24.43, 'Dell']\n"
          ]
        }
      ]
    },
    {
      "cell_type": "code",
      "source": [
        "# type() function is used to find the data type of variable\n",
        "print(type(li))"
      ],
      "metadata": {
        "colab": {
          "base_uri": "https://localhost:8080/"
        },
        "id": "Kx-syLPQC55r",
        "outputId": "296b8021-5224-4ef8-84e7-9b0dbd6d6b0a"
      },
      "execution_count": null,
      "outputs": [
        {
          "output_type": "stream",
          "name": "stdout",
          "text": [
            "<class 'list'>\n"
          ]
        }
      ]
    },
    {
      "cell_type": "markdown",
      "source": [
        "\n",
        "![image.png](data:image/png;base64,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)"
      ],
      "metadata": {
        "id": "REX-PB2ODrdN"
      }
    },
    {
      "cell_type": "code",
      "source": [
        "# in list we can fetch items in list by its index value, most of the programming langauges have index starts from 0\n",
        "print(li[0])\n",
        "print(li[1])\n",
        "print(li[2])\n",
        "print(li[3])"
      ],
      "metadata": {
        "colab": {
          "base_uri": "https://localhost:8080/"
        },
        "id": "jKtxeuQ2Djan",
        "outputId": "93beaab5-5560-474b-8d47-bad85547e1dd"
      },
      "execution_count": null,
      "outputs": [
        {
          "output_type": "stream",
          "name": "stdout",
          "text": [
            "Red\n",
            "Orange\n",
            "White\n",
            "Black\n"
          ]
        }
      ]
    },
    {
      "cell_type": "code",
      "source": [
        "# for print list values in series from 3rd index till end\n",
        "\n",
        "print(li[3:])"
      ],
      "metadata": {
        "colab": {
          "base_uri": "https://localhost:8080/"
        },
        "id": "4sW5b66sFiIh",
        "outputId": "e04d9d8f-f28c-47a3-8cef-197bc96c5a97"
      },
      "execution_count": null,
      "outputs": [
        {
          "output_type": "stream",
          "name": "stdout",
          "text": [
            "['Black', 'Green', 'Blue', 'Grey', 'Yellow']\n"
          ]
        }
      ]
    },
    {
      "cell_type": "code",
      "source": [
        "# for print list values in series till 3rd index from begining\n",
        "\n",
        "print(li[:3])"
      ],
      "metadata": {
        "colab": {
          "base_uri": "https://localhost:8080/"
        },
        "id": "7YpCgVJYFxli",
        "outputId": "e9db8fd1-1776-4b89-f32d-410c21e962e1"
      },
      "execution_count": null,
      "outputs": [
        {
          "output_type": "stream",
          "name": "stdout",
          "text": [
            "['Red', 'Orange', 'White']\n"
          ]
        }
      ]
    },
    {
      "cell_type": "code",
      "source": [
        "# for print list values in series between two indexes\n",
        "\n",
        "print(li[2:5])"
      ],
      "metadata": {
        "colab": {
          "base_uri": "https://localhost:8080/"
        },
        "id": "2O9csNMpGAbu",
        "outputId": "7eb91c04-6a09-47fa-bc28-96440b9c4810"
      },
      "execution_count": null,
      "outputs": [
        {
          "output_type": "stream",
          "name": "stdout",
          "text": [
            "['White', 'Black', 'Green']\n"
          ]
        }
      ]
    },
    {
      "cell_type": "code",
      "source": [
        "# to print last value from the list negative numbers is used\n",
        "print(li[-1])"
      ],
      "metadata": {
        "colab": {
          "base_uri": "https://localhost:8080/"
        },
        "id": "7EMBBR-QGI78",
        "outputId": "915cc38c-8ad0-4a18-98d5-4698a3d09294"
      },
      "execution_count": null,
      "outputs": [
        {
          "output_type": "stream",
          "name": "stdout",
          "text": [
            "Yellow\n"
          ]
        }
      ]
    },
    {
      "cell_type": "code",
      "source": [
        "print(li[-3:-1])"
      ],
      "metadata": {
        "colab": {
          "base_uri": "https://localhost:8080/"
        },
        "id": "nJ6YXdGQIyii",
        "outputId": "63e18f2d-866f-4b1b-e9e3-e0a5924732d9"
      },
      "execution_count": null,
      "outputs": [
        {
          "output_type": "stream",
          "name": "stdout",
          "text": [
            "['Blue', 'Grey']\n"
          ]
        }
      ]
    },
    {
      "cell_type": "code",
      "source": [
        "# we can update list by the index number\n",
        "\n",
        "print(\"List items before update: \\n\", li)\n",
        "li[1] = 'Car'\n",
        "print(\"List items after update: \\n\", li) # Orange is updated to Car"
      ],
      "metadata": {
        "colab": {
          "base_uri": "https://localhost:8080/"
        },
        "id": "VfKWSNegI7Yg",
        "outputId": "2d626b84-546c-445f-8784-8ae99a254ede"
      },
      "execution_count": null,
      "outputs": [
        {
          "output_type": "stream",
          "name": "stdout",
          "text": [
            "List items before update: \n",
            " ['Red', 'Car', 'White', 'Black', 'Green', 'Blue', 'Grey', 'Yellow']\n",
            "List items after update: \n",
            " ['Red', 'Car', 'White', 'Black', 'Green', 'Blue', 'Grey', 'Yellow']\n"
          ]
        }
      ]
    },
    {
      "cell_type": "code",
      "source": [
        "print(li)"
      ],
      "metadata": {
        "colab": {
          "base_uri": "https://localhost:8080/"
        },
        "id": "AvKcYXjMJoSe",
        "outputId": "cf2a3e50-cde7-437d-efbd-320cd192e54a"
      },
      "execution_count": null,
      "outputs": [
        {
          "output_type": "stream",
          "name": "stdout",
          "text": [
            "['Red', 'Orange', 'White', 'Black', 'Green', 'Blue', 'Grey', 'Yellow']\n"
          ]
        }
      ]
    },
    {
      "cell_type": "code",
      "source": [
        "# we can add item in the list with index value by using insert() function\n",
        "\n",
        "li2 = [5, 10, 15, 20, 25, 30]\n",
        "print(\"Before inserted value: \", li2)\n",
        "li2.insert(3, 'Happy') #in the 3rd index position item is add\n",
        "print(\"After inserted value: \", li2)"
      ],
      "metadata": {
        "colab": {
          "base_uri": "https://localhost:8080/"
        },
        "id": "jh4GnB2cJujP",
        "outputId": "8910b432-53b4-491f-a033-57913048b887"
      },
      "execution_count": null,
      "outputs": [
        {
          "output_type": "stream",
          "name": "stdout",
          "text": [
            "Before inserted value:  [5, 10, 15, 20, 25, 30]\n",
            "After inserted value:  [5, 10, 15, 'Happy', 20, 25, 30]\n"
          ]
        }
      ]
    },
    {
      "cell_type": "code",
      "source": [
        "# if we want to add item at the end append() method is used\n",
        "\n",
        "li2.append(\"King\")\n",
        "print(li2)"
      ],
      "metadata": {
        "colab": {
          "base_uri": "https://localhost:8080/"
        },
        "id": "Bx1tbIGpTb5q",
        "outputId": "abca13a9-6791-4682-e612-b9d4bd5b7fbd"
      },
      "execution_count": null,
      "outputs": [
        {
          "output_type": "stream",
          "name": "stdout",
          "text": [
            "[5, 10, 15, 'Happy', 20, 25, 30, 'King']\n"
          ]
        }
      ]
    },
    {
      "cell_type": "code",
      "source": [
        "# to join two lists we can use extend() method\n",
        "\n",
        "li1.extend(li2)\n",
        "print(li1)"
      ],
      "metadata": {
        "colab": {
          "base_uri": "https://localhost:8080/"
        },
        "id": "R7I9tg4sT5Ic",
        "outputId": "ab4ccaeb-09c1-4601-a1e7-be03591618b3"
      },
      "execution_count": null,
      "outputs": [
        {
          "output_type": "stream",
          "name": "stdout",
          "text": [
            "['Car', 18, True, 24.43, 'Dell', 5, 10, 15, 'Happy', 20, 25, 30, 'King']\n"
          ]
        }
      ]
    },
    {
      "cell_type": "code",
      "source": [
        "# To remove by the name we use remove() method is used\n",
        "\n",
        "li1.remove('Dell')\n",
        "print(li1)"
      ],
      "metadata": {
        "colab": {
          "base_uri": "https://localhost:8080/"
        },
        "id": "GZbC47MjUTYc",
        "outputId": "0d8176b2-0eb3-4661-8321-260fd88820da"
      },
      "execution_count": null,
      "outputs": [
        {
          "output_type": "stream",
          "name": "stdout",
          "text": [
            "['Car', 18, True, 24.43, 5, 10, 15, 'Happy', 20, 25, 30, 'King']\n"
          ]
        }
      ]
    },
    {
      "cell_type": "code",
      "source": [
        "# To remove by index number we use pop() method is used, if nothing is mention then last item in the list will be deleted\n",
        "\n",
        "li1.pop(2)\n",
        "print(li1)"
      ],
      "metadata": {
        "colab": {
          "base_uri": "https://localhost:8080/"
        },
        "id": "U6y4Bk8yU4UH",
        "outputId": "80f60bb1-388a-45c9-933e-e175b1ddb26a"
      },
      "execution_count": null,
      "outputs": [
        {
          "output_type": "stream",
          "name": "stdout",
          "text": [
            "['Car', 18, 24.43, 5, 10, 15, 'Happy', 20, 25, 30, 'King']\n"
          ]
        }
      ]
    },
    {
      "cell_type": "code",
      "source": [
        "# To delete by index number we use del() keyword is used\n",
        "\n",
        "del li1[-1]\n",
        "print(li1)"
      ],
      "metadata": {
        "colab": {
          "base_uri": "https://localhost:8080/"
        },
        "id": "cp32OCtrVVSl",
        "outputId": "c6e3e61a-b721-4ca1-edf7-9b0cbdca34c0"
      },
      "execution_count": null,
      "outputs": [
        {
          "output_type": "stream",
          "name": "stdout",
          "text": [
            "['Car', 18, 24.43, 5, 10, 15, 'Happy', 20, 25, 30]\n"
          ]
        }
      ]
    },
    {
      "cell_type": "code",
      "source": [
        "# To clear Entire list clear() method is used\n",
        "\n",
        "print('Before clear method is used: ',li2)\n",
        "li2.clear()\n",
        "print('Before clear method is used: ',li2)"
      ],
      "metadata": {
        "colab": {
          "base_uri": "https://localhost:8080/"
        },
        "id": "sjvZ5phaVm98",
        "outputId": "0da22fc0-9aeb-46cf-f7e5-2d8d063ff38e"
      },
      "execution_count": null,
      "outputs": [
        {
          "output_type": "stream",
          "name": "stdout",
          "text": [
            "Before clear method is used:  [5, 10, 15, 'Happy', 20, 25, 30, 'King']\n",
            "Before clear method is used:  []\n"
          ]
        }
      ]
    },
    {
      "cell_type": "code",
      "source": [
        "# To sort the List we can use sort() function\n",
        "\n",
        "l1 = [7,3,9,2,5,1,4,0,6]\n",
        "print('Before sorting: ',l1)\n",
        "l1.sort()\n",
        "print('After sorting: ',l1)"
      ],
      "metadata": {
        "colab": {
          "base_uri": "https://localhost:8080/"
        },
        "id": "i8Qluqd3Wgyp",
        "outputId": "18ecc6ad-28ca-4462-94e4-cefcb563d6c7"
      },
      "execution_count": null,
      "outputs": [
        {
          "output_type": "stream",
          "name": "stdout",
          "text": [
            "Before sorting:  [7, 3, 9, 2, 5, 1, 4, 0, 6]\n",
            "After sorting:  [0, 1, 2, 3, 4, 5, 6, 7, 9]\n"
          ]
        }
      ]
    },
    {
      "cell_type": "code",
      "source": [
        "# we can sort in reverse order\n",
        "\n",
        "l1.sort(reverse = True)\n",
        "print(l1)"
      ],
      "metadata": {
        "colab": {
          "base_uri": "https://localhost:8080/"
        },
        "id": "-0i2_J0vW62b",
        "outputId": "a8478e22-e6e9-4dbf-be58-9a831e6619b1"
      },
      "execution_count": null,
      "outputs": [
        {
          "output_type": "stream",
          "name": "stdout",
          "text": [
            "[9, 7, 6, 5, 4, 3, 2, 1, 0]\n"
          ]
        }
      ]
    },
    {
      "cell_type": "markdown",
      "source": [
        "#### Dictionaries"
      ],
      "metadata": {
        "id": "OqIC0twlX6Vx"
      }
    },
    {
      "cell_type": "markdown",
      "source": [
        "*   Dictionaries are used to store data values in key:value pairs.\n",
        "*   A dictionary is a collection which is ordered, changeable and do not allow duplicates.\n",
        "*   Ordered means that the items have a defined order, and that order will not change.\n",
        "*   changeable means we can change, add or remove items after the dictionary has been created.\n",
        "\n",
        "\n",
        "\n",
        "\n"
      ],
      "metadata": {
        "id": "8kv2dgFJYBVD"
      }
    },
    {
      "cell_type": "code",
      "source": [
        "d1 = {\n",
        "    \"Maths\": 87,\n",
        "    \"Physics\" : 76,\n",
        "    \"Chemistry\": 82,\n",
        "    \"English\" : 73,\n",
        "    \"Biology\" : 64,\n",
        "    \"Computers\" : 94,\n",
        "    \"Social\" : 79\n",
        "}"
      ],
      "metadata": {
        "id": "EBeyMPa0X5H7"
      },
      "execution_count": null,
      "outputs": []
    },
    {
      "cell_type": "code",
      "source": [
        "print(d1[\"English\"])"
      ],
      "metadata": {
        "colab": {
          "base_uri": "https://localhost:8080/"
        },
        "id": "HAz0IXM4ZiTX",
        "outputId": "1c01a4b6-6890-49a0-8c03-a9284617a4c7"
      },
      "execution_count": null,
      "outputs": [
        {
          "output_type": "stream",
          "name": "stdout",
          "text": [
            "73\n"
          ]
        }
      ]
    },
    {
      "cell_type": "code",
      "source": [
        "# it throws error when ever we add multiple keys with same name\n",
        "\n",
        "d2 = {\n",
        "    \"Car\": \"Nexon\"\n",
        "    #\"Car\": \"Brio\" #this throw error if you want to check remove coment and run\n",
        "}"
      ],
      "metadata": {
        "id": "qhnWZ9m8ZryS"
      },
      "execution_count": null,
      "outputs": []
    },
    {
      "cell_type": "code",
      "source": [
        "# To find the length of the dictionary we can use len() function\n",
        "\n",
        "print(len(d1))"
      ],
      "metadata": {
        "colab": {
          "base_uri": "https://localhost:8080/"
        },
        "id": "ygaRuoPFaJ1w",
        "outputId": "54e59a11-ab91-4c95-b6bb-982ab5b774c8"
      },
      "execution_count": null,
      "outputs": [
        {
          "output_type": "stream",
          "name": "stdout",
          "text": [
            "7\n"
          ]
        }
      ]
    },
    {
      "cell_type": "code",
      "source": [
        "# To find the type of the dictionary we can use type() function\n",
        "\n",
        "print(type(d1))\n"
      ],
      "metadata": {
        "colab": {
          "base_uri": "https://localhost:8080/"
        },
        "id": "aRhHBmy2aoBY",
        "outputId": "00c0bb36-440a-40f0-f872-6ff50f851cd3"
      },
      "execution_count": null,
      "outputs": [
        {
          "output_type": "stream",
          "name": "stdout",
          "text": [
            "<class 'dict'>\n"
          ]
        }
      ]
    },
    {
      "cell_type": "code",
      "source": [
        "# we can fetch the data with key name\n",
        "\n",
        "x = d1.get(\"Maths\")\n",
        "print(x)"
      ],
      "metadata": {
        "colab": {
          "base_uri": "https://localhost:8080/"
        },
        "id": "BmietVr-a0qz",
        "outputId": "a6fcff44-4b74-4b7d-da0f-c9324d004f78"
      },
      "execution_count": null,
      "outputs": [
        {
          "output_type": "stream",
          "name": "stdout",
          "text": [
            "87\n"
          ]
        }
      ]
    },
    {
      "cell_type": "code",
      "source": [
        "# we can get the keys by keys() method\n",
        "\n",
        "print(d1.keys())"
      ],
      "metadata": {
        "colab": {
          "base_uri": "https://localhost:8080/"
        },
        "id": "FjyXRUxFbJ0b",
        "outputId": "5839e0cf-5d32-464c-8cb1-7ddc9dec10f6"
      },
      "execution_count": null,
      "outputs": [
        {
          "output_type": "stream",
          "name": "stdout",
          "text": [
            "dict_keys(['Maths', 'Physics', 'Chemistry', 'English', 'Biology', 'Computers', 'Social'])\n"
          ]
        }
      ]
    },
    {
      "cell_type": "code",
      "source": [
        "# we can get the values by values() method\n",
        "\n",
        "print(d1.values())"
      ],
      "metadata": {
        "colab": {
          "base_uri": "https://localhost:8080/"
        },
        "id": "O9XyKxaCbV3k",
        "outputId": "ab838693-ada5-41d3-d271-944ef5cc8a14"
      },
      "execution_count": null,
      "outputs": [
        {
          "output_type": "stream",
          "name": "stdout",
          "text": [
            "dict_values([87, 76, 82, 73, 64, 94, 79])\n"
          ]
        }
      ]
    },
    {
      "cell_type": "code",
      "source": [
        "# If we want to print both keys and values by using items() method\n",
        "\n",
        "print(d1.items())"
      ],
      "metadata": {
        "colab": {
          "base_uri": "https://localhost:8080/"
        },
        "id": "24t91vV9bcZd",
        "outputId": "d2ce2958-d148-4e91-e019-d977966d681d"
      },
      "execution_count": null,
      "outputs": [
        {
          "output_type": "stream",
          "name": "stdout",
          "text": [
            "dict_items([('Maths', 87), ('Physics', 76), ('Chemistry', 82), ('English', 73), ('Biology', 64), ('Computers', 94), ('Social', 79)])\n"
          ]
        }
      ]
    },
    {
      "cell_type": "code",
      "source": [
        "# we can update the values by using update() method, if the key is not available in the dictionary then it will add the key and value to dictionary\n",
        "\n",
        "d1.update({'Biology': 75})\n",
        "d1.update({\"Laptop\":\"Dell\",\"Car\":\"Nexon\"})\n",
        "print(d1)"
      ],
      "metadata": {
        "colab": {
          "base_uri": "https://localhost:8080/"
        },
        "id": "QqBIGglGb1qt",
        "outputId": "c5fbd4e4-e353-40bf-b067-ae3300d53ca0"
      },
      "execution_count": null,
      "outputs": [
        {
          "output_type": "stream",
          "name": "stdout",
          "text": [
            "{'Maths': 87, 'Physics': 76, 'Chemistry': 82, 'English': 73, 'Biology': 75, 'Computers': 94, 'Social': 79, 'Laptop': 'Dell', 'Car': 'Nexon'}\n"
          ]
        }
      ]
    },
    {
      "cell_type": "code",
      "source": [
        "# we can remove the value by key name using pop() method\n",
        "\n",
        "d1.pop('Laptop')\n",
        "print(d1)"
      ],
      "metadata": {
        "colab": {
          "base_uri": "https://localhost:8080/"
        },
        "id": "6fkQyfdkcmCA",
        "outputId": "38f4fe25-c378-42dc-d854-b466659586f3"
      },
      "execution_count": null,
      "outputs": [
        {
          "output_type": "stream",
          "name": "stdout",
          "text": [
            "{'Maths': 87, 'Physics': 76, 'Chemistry': 82, 'English': 73, 'Biology': 75, 'Computers': 94, 'Social': 79, 'Car': 'Nexon'}\n"
          ]
        }
      ]
    },
    {
      "cell_type": "code",
      "source": [
        "# we can delete by del key word\n",
        "\n",
        "del d1['Car']\n",
        "print(d1)"
      ],
      "metadata": {
        "colab": {
          "base_uri": "https://localhost:8080/"
        },
        "id": "_21NGbFEdrGK",
        "outputId": "f13bf35a-061d-4c6f-e4f1-007ae9294a6c"
      },
      "execution_count": null,
      "outputs": [
        {
          "output_type": "stream",
          "name": "stdout",
          "text": [
            "{'Maths': 87, 'Physics': 76, 'Chemistry': 82, 'English': 73, 'Biology': 75, 'Computers': 94, 'Social': 79}\n"
          ]
        }
      ]
    },
    {
      "cell_type": "code",
      "source": [
        "# to clear the dictionary clear() method is used\n",
        "\n",
        "d2.clear()\n",
        "print(d2)"
      ],
      "metadata": {
        "colab": {
          "base_uri": "https://localhost:8080/"
        },
        "id": "V3wAecOMeG6s",
        "outputId": "b01807fb-d1f6-43b3-cc90-cc5ca16f8164"
      },
      "execution_count": null,
      "outputs": [
        {
          "output_type": "stream",
          "name": "stdout",
          "text": [
            "{}\n"
          ]
        }
      ]
    },
    {
      "cell_type": "markdown",
      "source": [
        "#### Tuples"
      ],
      "metadata": {
        "id": "6JWjXaUieiju"
      }
    },
    {
      "cell_type": "markdown",
      "source": [
        "*   Tuples are used to store multiple items in a single variable.\n",
        "*   A tuple is a collection which is ordered and unchangeable.\n",
        "*   Tuples are written with round brackets."
      ],
      "metadata": {
        "id": "LjmkALiieqx7"
      }
    },
    {
      "cell_type": "code",
      "source": [
        "t1 = ('India', 'USA', 'Canada', 'Japan', 'France', 'Dubai', 'Africa', 'Germany', 'Korea', 'Singapore')\n",
        "print(type(t1)) # to find the type"
      ],
      "metadata": {
        "colab": {
          "base_uri": "https://localhost:8080/"
        },
        "id": "c1jbw5TJfJi4",
        "outputId": "4567d096-a4d8-4378-a441-9f9f1e2bb32b"
      },
      "execution_count": null,
      "outputs": [
        {
          "output_type": "stream",
          "name": "stdout",
          "text": [
            "<class 'tuple'>\n"
          ]
        }
      ]
    },
    {
      "cell_type": "code",
      "source": [
        "print(len(t1)) # to fing the length"
      ],
      "metadata": {
        "colab": {
          "base_uri": "https://localhost:8080/"
        },
        "id": "1jEA9kuRgLQc",
        "outputId": "75742552-1bed-40eb-820e-ee7879706099"
      },
      "execution_count": null,
      "outputs": [
        {
          "output_type": "stream",
          "name": "stdout",
          "text": [
            "10\n"
          ]
        }
      ]
    },
    {
      "cell_type": "code",
      "source": [
        "print(t1[3]) # we can print by using index value"
      ],
      "metadata": {
        "colab": {
          "base_uri": "https://localhost:8080/"
        },
        "id": "HJNJX4mdgje7",
        "outputId": "e3386967-9184-4045-e991-e12a8f8f08e0"
      },
      "execution_count": null,
      "outputs": [
        {
          "output_type": "stream",
          "name": "stdout",
          "text": [
            "Japan\n"
          ]
        }
      ]
    },
    {
      "cell_type": "code",
      "source": [
        "''' As tupils are immutable we cannot add in tuples remove the comments and run if you want to see\n",
        "x = ('China', 'Pakistan')\n",
        "t1.append(x)\n",
        "print(t1)\n",
        "'''"
      ],
      "metadata": {
        "colab": {
          "base_uri": "https://localhost:8080/",
          "height": 35
        },
        "id": "yw8i5Pllgyn9",
        "outputId": "a319d8a3-a338-477e-b567-1b93f6931e7a"
      },
      "execution_count": null,
      "outputs": [
        {
          "output_type": "execute_result",
          "data": {
            "application/vnd.google.colaboratory.intrinsic+json": {
              "type": "string"
            },
            "text/plain": [
              "\" As tupils are immutable we cannot add in tuples remove the comments anr run if you want to see\\nx = ('China', 'Pakistan')\\nt1.append(x)\\nprint(t1)\\n\""
            ]
          },
          "metadata": {},
          "execution_count": 65
        }
      ]
    },
    {
      "cell_type": "code",
      "source": [
        "print(t1.count(\"India\")) # To count how many times an item is getting repete"
      ],
      "metadata": {
        "colab": {
          "base_uri": "https://localhost:8080/"
        },
        "id": "roC_DEBBhZ8X",
        "outputId": "69d5c8ca-acd0-4db0-a4c9-b06f2d197e7d"
      },
      "execution_count": null,
      "outputs": [
        {
          "output_type": "stream",
          "name": "stdout",
          "text": [
            "1\n"
          ]
        }
      ]
    },
    {
      "cell_type": "code",
      "source": [
        "print(t1.index(\"Dubai\")) # To get the index value of the item"
      ],
      "metadata": {
        "colab": {
          "base_uri": "https://localhost:8080/"
        },
        "id": "c3HPabwgjqtJ",
        "outputId": "7908bdfc-279c-4c50-ce4c-3d2b5dda719e"
      },
      "execution_count": null,
      "outputs": [
        {
          "output_type": "stream",
          "name": "stdout",
          "text": [
            "5\n"
          ]
        }
      ]
    },
    {
      "cell_type": "markdown",
      "source": [
        "#### Sets"
      ],
      "metadata": {
        "id": "ZXPJfP7GkeIE"
      }
    },
    {
      "cell_type": "markdown",
      "source": [
        "*   Sets are used to store multiple items in a single variable.\n",
        "*   Sets are written with curly brackets.\n",
        "*   A set is a collection which is unordered, unchangeable, and unindexed."
      ],
      "metadata": {
        "id": "AOs9ZRZhkpHr"
      }
    },
    {
      "cell_type": "code",
      "source": [
        " s1 = {'Lion', 'Panda', 'Fox', 'Tiger', 'Bear', 'Deer', 'Cheeta'}\n",
        " print(s1)"
      ],
      "metadata": {
        "colab": {
          "base_uri": "https://localhost:8080/"
        },
        "id": "qpAtfOa0kJI3",
        "outputId": "89a49175-2216-4903-bdcc-a1fda2baf32f"
      },
      "execution_count": null,
      "outputs": [
        {
          "output_type": "stream",
          "name": "stdout",
          "text": [
            "{'Cheeta', 'Tiger', 'Bear', 'Fox', 'Lion', 'Deer', 'Panda'}\n"
          ]
        }
      ]
    },
    {
      "cell_type": "code",
      "source": [
        "print(type(s1)) # To find the Type of the set"
      ],
      "metadata": {
        "colab": {
          "base_uri": "https://localhost:8080/"
        },
        "id": "cl50VIkCligY",
        "outputId": "9130b3c9-a022-49ca-d18c-aefdf00ff175"
      },
      "execution_count": null,
      "outputs": [
        {
          "output_type": "stream",
          "name": "stdout",
          "text": [
            "<class 'set'>\n"
          ]
        }
      ]
    },
    {
      "cell_type": "code",
      "source": [
        "# Sets remove all duplicate values\n",
        "\n",
        "s2 = {5, 10, 5, 20, 40, 10, 60, 75, 25, 85}\n",
        "print(s2) # in this 5 and 10 are repeting that values will be removed "
      ],
      "metadata": {
        "colab": {
          "base_uri": "https://localhost:8080/"
        },
        "id": "7rx3N00cll1q",
        "outputId": "4bbf7f7e-1dfa-4087-ea7c-eb3243e0c37c"
      },
      "execution_count": null,
      "outputs": [
        {
          "output_type": "stream",
          "name": "stdout",
          "text": [
            "{5, 40, 10, 75, 20, 85, 25, 60}\n"
          ]
        }
      ]
    },
    {
      "cell_type": "code",
      "source": [
        "print(len(s2)) # To find the length of the set"
      ],
      "metadata": {
        "colab": {
          "base_uri": "https://localhost:8080/"
        },
        "id": "QnWeTsRYmLZy",
        "outputId": "6dbfaf96-9540-4fe9-9eea-eb4cbf634491"
      },
      "execution_count": null,
      "outputs": [
        {
          "output_type": "stream",
          "name": "stdout",
          "text": [
            "8\n"
          ]
        }
      ]
    },
    {
      "cell_type": "code",
      "source": [
        "# There is an alternative to create sets, but set will print in random manner\n",
        "s3 = set(('Horse', 'Zebra', 'Elephant'))\n",
        "print(s3)"
      ],
      "metadata": {
        "colab": {
          "base_uri": "https://localhost:8080/"
        },
        "id": "kv4J1SX8mVwm",
        "outputId": "d3cbfe00-0394-4af2-c3aa-54bdcc1145ff"
      },
      "execution_count": null,
      "outputs": [
        {
          "output_type": "stream",
          "name": "stdout",
          "text": [
            "{'Elephant', 'Horse', 'Zebra'}\n"
          ]
        }
      ]
    },
    {
      "cell_type": "code",
      "source": [
        "s3.add('Donkey') # To add the items in the set add() method is used\n",
        "print(s3)"
      ],
      "metadata": {
        "colab": {
          "base_uri": "https://localhost:8080/"
        },
        "id": "81EOdUSfqgrE",
        "outputId": "9680cd14-170f-41d8-e31a-d53fc4a1bb79"
      },
      "execution_count": null,
      "outputs": [
        {
          "output_type": "stream",
          "name": "stdout",
          "text": [
            "{'Elephant', 'Horse', 'Zebra', 'Donkey'}\n"
          ]
        }
      ]
    },
    {
      "cell_type": "code",
      "source": [
        "# we can add two sets bu using update() method\n",
        "\n",
        "s1.update(s3)\n",
        "print(s1)"
      ],
      "metadata": {
        "colab": {
          "base_uri": "https://localhost:8080/"
        },
        "id": "QxAMVGMKrWbP",
        "outputId": "64846598-1fc7-4c96-d3e8-56566b742a8e"
      },
      "execution_count": null,
      "outputs": [
        {
          "output_type": "stream",
          "name": "stdout",
          "text": [
            "{'Cheeta', 'Tiger', 'Bear', 'Fox', 'Elephant', 'Horse', 'Lion', 'Deer', 'Panda', 'Zebra'}\n"
          ]
        }
      ]
    },
    {
      "cell_type": "code",
      "source": [
        "# To remove an item from we can use remove() or discard() method\n",
        "# difference between remove() and discard() is, if we use remove('xyz') and \n",
        "# then xyz is not present in the set then it throws error where as discard() will ignore\n",
        "\n",
        "s1.remove('Lion')\n",
        "s1.discard('Fox')\n",
        "print(s1)"
      ],
      "metadata": {
        "colab": {
          "base_uri": "https://localhost:8080/"
        },
        "id": "TWYGMSturyUp",
        "outputId": "3406f104-cd70-4e70-c569-56470f8022db"
      },
      "execution_count": null,
      "outputs": [
        {
          "output_type": "stream",
          "name": "stdout",
          "text": [
            "{'Cheeta', 'Tiger', 'Bear', 'Elephant', 'Horse', 'Deer', 'Panda', 'Zebra'}\n"
          ]
        }
      ]
    },
    {
      "cell_type": "code",
      "source": [
        "# This throws error because Lion is not present in set, remove comment before s1.remove('Lion') to check\n",
        "#s1.remove('Lion')\n",
        "s1.discard('Fox')\n",
        "print(s1)"
      ],
      "metadata": {
        "colab": {
          "base_uri": "https://localhost:8080/"
        },
        "id": "sE9RBh1ysrfn",
        "outputId": "9090bfe8-1492-42c1-9446-ac83fffdf294"
      },
      "execution_count": null,
      "outputs": [
        {
          "output_type": "stream",
          "name": "stdout",
          "text": [
            "{'Cheeta', 'Tiger', 'Bear', 'Elephant', 'Horse', 'Deer', 'Panda', 'Zebra'}\n"
          ]
        }
      ]
    },
    {
      "cell_type": "code",
      "source": [
        "print(s2.pop()) #remove random item from set"
      ],
      "metadata": {
        "colab": {
          "base_uri": "https://localhost:8080/"
        },
        "id": "Shz67HeGs9kZ",
        "outputId": "4cbb7a8f-cb95-45e5-d83e-c32dfa43ec08"
      },
      "execution_count": null,
      "outputs": [
        {
          "output_type": "stream",
          "name": "stdout",
          "text": [
            "40\n"
          ]
        }
      ]
    },
    {
      "cell_type": "code",
      "source": [
        "s2.clear() # To clear set\n",
        "print(s2)"
      ],
      "metadata": {
        "colab": {
          "base_uri": "https://localhost:8080/"
        },
        "id": "dqs7WcYZtZHW",
        "outputId": "53a8aba8-894a-4a41-9525-79f976949de0"
      },
      "execution_count": null,
      "outputs": [
        {
          "output_type": "stream",
          "name": "stdout",
          "text": [
            "set()\n"
          ]
        }
      ]
    },
    {
      "cell_type": "code",
      "source": [
        "del s2 #To delete a set"
      ],
      "metadata": {
        "id": "fp3_mVCctpp5"
      },
      "execution_count": null,
      "outputs": []
    },
    {
      "cell_type": "markdown",
      "source": [
        "## Operators\n"
      ],
      "metadata": {
        "id": "jg1yYxjsuBKE"
      }
    },
    {
      "cell_type": "markdown",
      "source": [
        "Arithmetic operators\n",
        "\n",
        "![image.png](data:image/png;base64,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)"
      ],
      "metadata": {
        "id": "wxZsgA5ouUeD"
      }
    },
    {
      "cell_type": "markdown",
      "source": [
        "Assignment Operators\n",
        "\n",
        "![image.png](data:image/png;base64,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)"
      ],
      "metadata": {
        "id": "QrTmjr8hvR-O"
      }
    },
    {
      "cell_type": "markdown",
      "source": [
        "Comparison Operators\n",
        "\n",
        "![image.png](data:image/png;base64,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)"
      ],
      "metadata": {
        "id": "XYDH2SaFwFS2"
      }
    },
    {
      "cell_type": "markdown",
      "source": [
        "Logical Operators\n",
        "\n",
        "![image.png](data:image/png;base64,iVBORw0KGgoAAAANSUhEUgAAAecAAACSCAYAAAB/lQKSAAAgAElEQVR4nO2d30sc2drvv32Y65f3vOfY2mIchA0vQSaSaJi0O0NAmJuKCnZjmOiVSKBn+iJEBnTUZLNNm1EYlFy4pyGEXHVns0O3oKZuNgSHydgZ1IQ4SG42NFvF9sc/cDjnos9F/Vq1alVXdds/qvX5QJPYXbXqqVWr1rPW8zzrWb719fU8CIIgCILwDJ8BwK1bt2otR92zf3CASy0ttRaDIAgB9H4S9cb/qLUABEEQBEGYIeVMEARBEB6DlDNBEARBeAxSzgQh5AjJOz74fD74fLPIeL5cgjg/HL0Mq+9IGMmDWktTGxyVs1FJzOdOEkfVkI6ofw6SCPPtx0fKiSDOSuax3XulfGbf1VpC4iwUUM4ZzPp8CAylgcEEcvk88vk88pkY8GoYgXp4+Ixi8LysF4GZDaUNae0I0+j2+eB77EUV3YShf6iy5qcQLPZ027Z3xnIJwkIIif288W6pn6kbtZaLOAu2yjnzuBvTAIAYNv4xhCbthxtT2JhR/jsdvLgmB+KM3JhSFTSAR900eCIIgmAQK+eDJH56pP5/pscyug9+rXaqSCP1q2LgNvkIXs46msFFJhm2gzb7HAw/XfjlUQFTKWMmfTcL36VhpNU/p4MCWd7NWsswzeIY/+CdJI7069KgpCzc6IHWkqYXuDbi+Gxg2w7CL48cj1HammId0svWrzmLDP/sAfDtIfnY5roF256oXLf3bNceBfdNEOD6WaYtmdyVjzMwx0IUMI8zbXT2nU35pnbM9pUu35+CiOQ8p/3x+vp63kImlgeQB5APJXPW3/cT+ZD6OwYT+Vw+n88lQ/o5mNmwHqd9l9/Ix9TvYhlredr1TOUxH6E8+Xx+Y0Y7JpbXrsSWq1+rwPH6d+o95fO5fGLQKgMQyif2zeXt7XNfEArCNqDB1q9Rp/pz0I9njrO0N/OzyCVDgjZkPmZjRmsPRls0f2L5DcE1+fagtSm2rYratLnticotsT1q3zPvK9/OCYXz+H4abcbaH7FY2mfBd5JB1K6Y74TlMWVa27T790f47urXYb47x21fOHM+yr4vWskbhJAYUefaLUP4XjWB49EbZMCYywcTGNV8Ii09CA8q/00vv+Fm2WZ/SupuE0QYs/lpvHEykTKWgVByVLcMBEcSCAHAq2FE+VEc63fPpzBEyYYqw7tZdD8CTO0ITegZCCn/fZXCmwMg+y9tXnoNbcyzaLqbUtrIQRLRIfWYme9Nzyv4UOCPY/3hbnzBTPttuvu9YQH4Zwn+81Lbo+ZuammDWjt4n6XZ88UjjeFL9lbEprtLSKj96/RCEskXqlVnMIHcwwItnbVsCdp1LKO+R0z/zZbZ9ie9VSLLz2yLfn+OkBxT5WbfZwcZ6xmhcm5qu1a2C5gf0BGyf6h/qkFlSkMKYPhVsSUzJkmfD77gtPtTD7K6yfFaG6PsW9qg3Xn6X9liBSLKgDEwNHc4AU3RqhjtSg0q401rzDOOfV3psKs2tGmd0x/Z4lcyUHskzoQoIIwdYDZh6B8bihJ7NYzhR4AllkjF7G7U4o4qjZv3J4uspiMedddAxuoj9jkzI3Fhp8B0JqGBHssDdoVpJsp8BA2GR/GXKA8llmGjf4n6gnnhBsPoMVkjxBGomtWi6W4KuWTIWuSjblrqRxCOcLNZNX6h+xEYK9IGPNmrmqxczKeQFaAOsVHOVnM0S+af2lglhPBXhVWp2fzYhLYv1D9V82TxHOHNslomaxovBjsz4EEW2rwt9Ke2UoQjiuHdG33UGxtTBmWG1cYINrSj6W6KeTlzuukOr7LIVtXUywwyvmgrfrBK7ZGoKEdI3tHciTHEBgEgjeExYxB79GtKnXCx7qRq4eb9YWbXAp10HrFdShV8qI2aptHNRTh3q/6xWMbB98ocq/nSjHLNjQNQTSqOsx5WwWehzeuFfnLGLGjyRzCDj/TQc/1BZxhfzJKNb5soE+9mdVdEKJkzfMDMUr30UNQchflu1hS9b15+xbzgMz0ItgxhSZ1Z8+VkHpd33bux7JCNt7BpeyKoPRIVJPNYcxuGkFiYwtSCEcsQUN1A7KBYn1Ezg8PKyid4fyw0YUiTG9PoFq1i8GS+hDMgjNZmEEZNM1GmBY8rEEVnRPKJo7HtIm3Vq1miqEODgojZfN4SXWiSnf/NEr0ojqwVcR6jQcsCH8lpiYq2QfRs9OdgF0UvaGs217dEaxeKJHeM3re5F2HbK9CmSm2PgtUOhJnz+H7a9aFsGzcdw7Ql0eoaSx8+GLJGdQujo8Xt0tqHu39/7Pv/It79Ose3vr6eL8d+zkcvw2rQTgiJ/YsXzUz7xV4EjpC8o85C2GhpwvPQ++kF6P0pBtr4giAIgiA8BilngiAIgvAYZTNrX3TIbEYQ3oXeT6LeoJkzQRAEQXgMUs4EQRAE4TF86+vr+f/4z/+qtRwEQRAEQah8BgCBQKDWctQ9uVyO6pEgPAq9n0S9QWZtgiAIgvAYpJwJgiAIwmOQciYIgiAIj0HKmSC8yGEKo40NCDQ2INC4iK0CxzzdrqwMFSufIAhbSDlfVEydv/EZXT6ptWQVY2vBer9euP+T5REEGkeQPtS/QfovESC+i9zxKXLHD9BVdakIgqglpJwvOBPyqaoATpH7EAci7UUrqK2FBgTupeB1td41xtzr8S6W+gGMy8x3p3g+4K+6XP6BF8gdv0CoWf3i8Fe8XunF7S+rJcsJ0vcaEFjYrNL1CIJwgpQzYdAcxrfjgCz/6nlFe67J7UHGFbQ2Ox9KEMT5hJQzYaK1rRdY2cOe6dtNPDWZfw0T7MnyCPrmAaxE0KH9vrAJbTbGz8IVE67hQ9Vn3duLZtPy9qJynW2z+V1cnli24jFmkGy5T7dVOfmZpSbjoaAMRiZHny1bzmEKo9ITAE/Q59rUzj0fwQyYN+mzMm0ttCO6AmBesqln5/IJgigvpJwJE3vZNaC/Fa3aF4cpjDZKAGv+lq8gelVRJv6BF1gdB9Afx0ft97HrxV10JYKOX24KTMtriMaBHzmzu6ZYTpZH0BG5glXGLP0xDuznzlgJ8xJ+wLxe5v1Otydu4mljO15LuyZXwY5URFBVcxjP5UkAvVj64M7UPie9xZ/1OpAxMS+ZlOvWQgP65ieNelJl0o7pGrOa+NlrOpVPEET5IeVMGGwvom++F0t/DUPrmrf+HoE8LpsVVOcwlvrX8Pr3MnXQ/XF8FCp0syxo/gq3+4GdPeW6loEElMGCe2Vqw7hcku/5ZPlvmOuP40f2XNVVMPdL5WabEzIbMHYdd+O9hmviMIWf57ljmsP4Md4LOZIQR4E7lP/ncUDO/ruMd0AQBA8p5wvOnMSYK+Ot+MgGJuEEe59gMncqH9UMWmO6bk2azOm1XvKzl10zm/fVT998deXwt14xXBO5PcjoxaWA4BjsYK9kFwBBEJXks1oLQNSWCVk12x6mMHo1go7LrRaztBTfrUkUsyOdD5A7fqDLPic1YA7MPdWCcbl4sz5BEATH+Zs5by/aJ20g7NF8nSZ/oh+tl+sgers5jOfM8qhKmpAL0drWC8y/rXnb2/rliWHuD7RCwprFD3+ytwNQRDhRQU6WR+piiaVXOX/KmSidzgf4GO+FzKx17vomDmklgg4uQvdkeUQ3I4sjvAWK/TCFHyJrZRN3a4E3Zf8b+yuA1PZ52a6hYVW8m3gqPTEd4x/4DhN4gj6+Q9perF4A1fYi+uaBiYjqq9d83hIzYFWfgxQfVn3JyrPCpz3qSOsS6woB/UPK0RVOA4lCqx0qBZm1CRP+gRf4iBF0RNoRyMrIjYXx/LgVTxslBEy+00msHmvnzGNJbkdfo6qsVNNu19gulu61o6MxonzfH8dqvBdypDyydt2aRJ9qytaolAneP/ACq9kG4x4xiVV5EpB2mKOu4/7xLi6x9wxAibx+UHaZtLJ34g0IMDEAvFm/a+wUq2BlFx0jY6JRQseKIrcU38XzLyskMlEZyKVSIpt4GVkD+nuFv24tNKDvUxwfj9UB7/YiAtIILn1g43PKj299fT3/35fbK3eFarO9iIAErFY55SHtF0sQ3qUe309lCZybGIoTpO+1I3rZW8r5ZHkEHXIvPj5jVlxUAff1tomnjZIxuO+PW2VV41mumMqqTn3XxKxtTRzBJzYwkkGYzQkCXzKTvCLQ2IAAZ2okCIKoLFqSFq5/0vLXF5W0xTBRK7O1ygY3ivLNm1ww+uYnzolo+H69w8mFpfXdApdZ8abjUurtOu6r6/dXx20OEa528OOm1FtxN1DNfM5S3JyoQRIlNpiX8NstI8HE6rjZn3eyPIKAtKMna1ASZExW/V4IgrjIXMf9Y1mJN9AVzSaeXlU3L3E1u9KUnzojOz5FrtgZJ7fk0a1yM+XXlychM4l+NNwkurEmBBKbiXU6Hyj99bxkXG97ER0RYOmD20FJGeqtAAUDJy1xNuWlJj5n/8ALPGe/aA7j2/EI+rL/Bthq5ZJfdN2aBOb3sPcM8Kt+Aim+W1G7P0EQhDPXcf9DHDtXJYy2ybgtS5gbl5Fzin9QzaYy1AlLSfESfoSenSL0zPjmZHkEHVID4GDa7Ro7Nbv/Ooex1P8Er/dOgE5DFlEimjmtvxYlunFL5wN8jO+gQxrBJbkXr6UnmJBPnfv0stSbt6nZzJk3gRSdqOFwDzsArrSev4dCEEQdomdekxCFXda76uAfmFeWFcado7XNpu0SEgzZJLopTtY1RCXF0lCzHAUeowbKWfEN8CYQW5s/QRBEveHW5Kmv0ZdxJdJexo1F1OVxBVFMwpqP1rSVao1wnRa2YvVmppaZ9KqvnA9/xeuVEk0gLM2tuFIumQiCIM6Kun58Qt7FUr9gvXtBtOCkXSx9ksqwRllNvXu51d7/uv0Wc3z++lIItEI6w+kny+OIrkxi1S72qCDlrjcOmyQ+e9k1YPxmRVcEVV85q0pV27wAgJ44oThUvwebXEGQGIIgCKLyGAFg9zv9CP1VSd7zQ9HJZxT/ce74FKuXlTztrrYctUQ8jyO60oulbwqY1gWKRzmvSJGbv8Lt/jVE/5IqPuGQHgD2AF26W2C8hG1fS6g3N2hJfFj3gJbo51Zl3RY1MGsrgRPQTBGNDQj8crMks3bXmBrBrftL3uLPFK1dBoylbEWjL70ov1QVR7g/c71whmdGnBF1vSy7I5maDleOtJf8TLrGXG5ZGmiFxEVqK25DhyQZqozs5jc/4LsSzNp+hJ7tYgnMpi9/Ab51itbeXkRAegIpPq/LqWxBu4bo1dL7ENf1xuxTbt6T3rwkrmvMUPjact1q5O8/f0lIakQ9Jjmw5wyL7IWL9uuE7UV1aV5lM/9UBm8movAK5+v9JC4ClFv7AmNNQKCMGLcW1IhNZjSu+YEKJy1QTHsy2K0o2Zkol8iAm6VuLYgSz6jHcMlmrKNqF2XfS2HLtEqAOeYwhVHpCQBl1G5OesOX7TxDdZ/cgc2LbIzYLYl6HK9n88xsr6P8zfv3lOtyyTT4RD+Ur5kgKg4p5wuKkS+WjZhXohK7xtSIzXFZ/43NV22ftEBxWUimY9RZ6GEKo40SYDr3CqJXOTOyJfGMqix/uWm65pzEKVY3Za9E8DPmmSQJQPSqqoi0XbnQyyS1eYAu1WS5wybNOZYx4SI7kLvkDuPAX9nrqQkd5F5zBO0nqaCCdnpmouu4QUn0A/PKissRdJCCJoiKQsr5QiKO5Owaczbndo1x5urOYSz1cwF+Arb+HoHMJZVRzl3D69+Zc0WJZzCJVdZUywWyuC6b9QkC8H/ZC8lpmYRwPf113HfIQuS2niZkrs4PU/h5no+g9SMUmTzTdpSW67hCSfTDr6xQdipbw9u69M0TRH1Au1JdSNTcsBFtp6neovysWmJ5FqngWgp1MLDC72zl5lwBpmV0ZS7bcq2vcLsfiGq7X4mS49tQfD1BTeiwBvlqA6KWH6sc7KgOTGRu5y+FXtyurjQEcaEg5XxB8Q+8QG4AesRk9GoDoo5K2ohK1bdPUwORXru4ZqW2c6xs2UZqREXZRpRtFQsq6bPVk7IdZ3V3VbOnuIEbQRDlgczaF53OB4YfFZwZmKfkpAVKtiJZ/rUCfspKlm1GW6KRkyeBQmbdsyR3CLRCwhP85oWlaM2tuOLUJgiCqAiknC8kJ0jf44KlTL5VNfUfH/TkJmmBKMkMND9lBB2C7eHOuia6bGWLsgEdpjDKBT8V3KnGphzXyR20pAcSv956E08LBmHZPDOH402DGkviiOu4G+8VBLKdIH1PsH0rQRBlg8zaFxI/bkpAB+fXZBfWd43JmGiUFBMuNLNxGM/lPQQYH6QUl5XAK72U67gvTyIgtSMQAQyzaBjPj1vxtJH3DU9i9fiMt1OuspvD+DG+hg79/iaxejyM22hHR2OEK7eA2bnZTT3Z0zV2io9tI5bnI8V3cb/geYJn9mWh43exdI+5t/44VuO9kJlb9Q+8QK510XQvAJSocBf3QhBEaVASkjJBSQ4IwrvQ+0nUG2TWJgiCIAiPQcqZIAiCIDwGKWeCIAiC8BiknAmCIAjCY5ByJgiCIAiP8RkA/L//+39qLUfd87//1/+keiQIj0LvJ1FvfAYAl1paai1H3bN/cED1SBAehd5Pot4gszZBEARBeAxSzgRBEAThMUg5EwRBEITHIOVMEGflIImwzwefzwefbxaZWstzJjKY1e8ljORBMeceIXnHB9/j+q4BgvACpJzrAVPnb3zCL49qLVnFyDy23q8X7v/oZZhTWkdIjg0DyRzy+Tzy+SkEqy5V+cg87sb0zIZ6LykMUQwVQdQEUs51RCyTVzvNPPL7CWAoULSCyjz2wXcnCa+r9eBD5l7zOSQGAehKQ/mk7jZVXa6muymz0jp4g9SrEMJfVV+W8pPBm0dA7Gvn4UW9tCOCqFdIOdcrLUP4fgZIL7+hDrKWHGSRxjW0nYcZ5kEW7xE6H/dCEHUOKec6pu1PIeBVFlnTt6zP0Ow3PHoZRvcjAK+GEdB+f5yB5ivkZ+GKCdfwoeqzpXezZtPyu1nlOu/M5ndxeWLZisfwb7Llzr6DKg/v+1XqxSyTWgYj0+w7h8tq93oAxd0QnAYwjW5Xpnb+2XAyqu6L2XfccQIfrqUuXfp5eXeBcb8ZzF4aRhppDF8qXKZ9O7K7jsAPz7Qhn49m4QTBQ8q5jsn+Kw0MtqFN++IgibCvG2DN35lrGL6kKJOmuylszAAYTCCn/f6wSA/pq2EE/tkjMC2nMbwALHFmd63zP3oZRmDoGjYYs3QuCWRLVs4qj7oRxZJe5tQNtydmMOsLIDWQM7kK3gddKGiNliGkMjEAIST2nUztGcz6WH9uHrnke3QLBijTwTfo0etpA7FH3Saln3nsQ2A5bDzDfA6JP7odFXTmsQ/dj2LGM1DvVyk7iKn9BEJg3Cc2bcOxHT3qxpuvjee8MTONbkb5Hr0MwxeEqS1sfDGMAClogtAh5VyvvJtF96MQEgtD0NRB5sUw0jMbZgV1YxSJwTRSv5ap2xtMICfstM2yoKUH4UHgfVa5rmUgAaWTd69MbZjZKMn3fPTyJ0wPJrDEnqu6Cqb/Wf5o46OXP2EaMWwwddd0dwmJwTSGX5ivF8uwQWVB9MwA6X+p9pGDJH7injvQhKGxGPDojX2k+EESPz3iym4ZwlIyhPTQ8/JGmHNtMPh1jLHwZPB8KM3dIxAcSSD0KoU3Zx2sEcQ5gZRzHTEdZMyAC23ImaJpj5D9A8Cjbs50HMDwqxoKraJ00IYZ1PXstEJk/5U2m2XVT/ejCl6PG5wATWj7AsAfWfczxoOs2fSsfYLTLs6z+pOb2q4BeH92C4ZbDrJ4D64t+3zwXRpGukoiEEQ9QMq5jtDNjfsJhF4NIyAwY4aSOVNEcy0jm03cmDJkh9E511RJc9HfeZGJ1pPETCZh41Mvy7gMN4D5Q0u3CEKDlHM9ovk6Tb5IZRbm+ejtliGkmOVRlTAhu6HtT6HCZuBKXM8SvKdaO75og+uhU0sbQpjGm2IHNS1tCCFtmSEfZd8D1Yw2b2nDNZTRzUIQ5xRSzvXKjSnkkiGkmbXOit/OOqM+ehnWZ6hiJSFQ7AdJRIfKZ2jMPOZnyVlkXwGhP7XZnVI6AgWWedwN1vDbdPd7xGAOVAIAvJutSHIT/XrMszl6GcXwqxASI0XMdzW/eJAPJMtgtlBAlX4eEzmtPuNQcrToGbe4HbkhiFG13ZrbwxGSd+o9u1odYJPQ6LwnNSqMtmrDW+2PlHMd03Q3pSto3+OMOitVonvZly4wdA09N7RzlpAYNJb+aBG+wYc5JMD4YMeA75Ohsska/DrG+Rm78T6Zq4y5XbUssNd78/UGYmaJMJXn7tnngy/4vkIJRYKY4p6NEr1evCk3+FCJdDf7nbvxfqCn4Aw8+FCNnGb8vNcypbk87NqRu3NTyGf49hDA8Bc9dWKWr39MCY284vqqEZnH3ojL4fGtr6/nb926VWs56h7aL5YgvMv5fj+PkLwTUKww+w6DvYMkwuqg7MwrJbyGem/pwQRy/xhy5SrSlngmku8xPHQNGx6K2/DczJlPriBMGiFKPEEQBOF1tOQrAtdT8X2ZlqwmgOEvNqoQUOeQREdP0MMcZ+Nq0e6XN6UryWuKTE6k1ak66Mi7VMx4N4vAEJDYn0JPEZerGuvr63mvkEuG8kAon9jXvtnIx4A8Zja0I/KJQeQB5EPJXI2kFLO3v+98EEEQNcFT72cmlgeQj2XYv9l+z4H9RD6EEvtB5lzjE8tvOJ7I98WC/lq9L3flWc9X/nZ3rnE8iqs7DbUetGdQ7LWrgYeUs/LwLY3N1HBV5TzjpSpU8NTLTxCECa+9n7piypiVREF05efyeHeSqBOewopJrLy4/rjYQUY+n9+YUa9dxLnKOe4HAYISLLrGi8rZO2ZtNTnBtTbOIGGzBIQgCKJe0bPDBZXtRmvn/23C0EICIUzjpwLR2mVLosMRfLihrGIITiOWqc46d21bVK8HwHlHORMEQVxA9NSsTjCJfN4Hy7j8qaUN185eypnRUv06oW0nq+SmL3EDHcuKljT0DWyKWHlQSbyjnNUGYnlANmkHCYIg6hVljXsMG/sJhLiNTRzRE/ls4NpQoOilbBbsrJYMZUuiw5F53I3pwQRymZhg7XthlL3Vtc193AcHm/eK1xR9CHrmPa9kCPSOz7mIgDDyORN1iTWohqgOnno/Of+qtd8rFs1v7FzGxgzvr1bPHUzkC4eWuQ0Ic38fvJ9X9z+7O92KFuzmeC/OsngBTynnfJ6NwBNFI5JyrjUbM6U1fj46sq4oIdClcnj3HfAynnk/1aAuPvBVC3Kq9PvB968oarCoKmi7KO8i3hNNDuFAoQbvmheV82e1ma/b03Q3hfxd218x9I88hqopEEEQRLm4MYV8fsrydfBhHvmHlb984f7ViSCm8nlYpVe5MYV8/ixy1K5/P1u9VAbv+JwJz6AkArAmGzh6GVa2VGS3WlR9XdZz2GCVDGbVLQGNlI1sEAef3MAc4JF5rFzHfA31GC0BgW1CGhdl30kiY0p+wxxzkEQ4OA2YtmnUki/wZTv5/owkOvbyFS5DTzXIBLSEXx7pOZNn32l5gjU5lb95n6aSBEKURIKRo1CuboIgKgopZ8JE5rEP3X8kkGOCJTZmlP1+m+6msDEDYJD5nQmeMOXrNQV4BDGlbhVpHKMumzhIIuzrBkznXsPwJS4C81E33nzNyqQqy3/2mK5p2hDCbdmvhvETlpjgEGD4kqq4tB3ATNscTiGIDGbV/OB62fkNxIpaVlJ8GcGHym5e7HaX7JKQ6WAUWCh+C8mjl2H4gjBtRbnxxTACpKAJoiaQciYYxNGXwYfO6w+DD7lcvTdGkRh0Xh6ReTGM9MyG4FxuW0HumODXMQAxbLCRldyaeNdlDyawxCi4pq/CCOF94bX1wgjXIKbcpg4sVxkcpa0VzeD5UBqxjFmZK7ucpfCGcgwQRNUh5UwwNKFnIMSYTItbP2g2O7vZ6UUdDHBrDt2dK8C0XrPMZVuu1YPwIGOmL2WGWY4yyoE6SDDvEqXkKi7fpqEEQRQDKWfChLF2MAbDz+qkpBW/qdkcrppfXRAymXXLu4Vd5cpWglcUEzsMP3xRCrYcZZQL1mzPfqqTtYkgCDOknAkxWjai/AZi4MzAPO/eYBohJBaKNccq6f/Sy28qoIwqWbYZPalBJgaUaAYuRxkl09KGa07PmCCIqkLKmWA4QvION0vm/KLCTEGC/OdKBiTzMaIMcIpfcxgBwRZ6Z90KtGxli/K7HyQR5ma4R9n3AK65z2ZXUhnF5jMWDFIOkogOsQbrIEaTIUGGpiMk73AR3QRBVAVSzgRDE3oGwCwZMvZI1YKqlIT9ag5abdmPGtHM+iyj+J4zawcxpUZwm/zZLUNI5TcQs+S6vYaes24GUK6yW4awlAwx9zeLTEsPwmCWlKnlFrVZe4llBB9uIMYsZ3NK/Rh8mEOCvc4Y8H0yZDqm6W5KjXbn/PNf9Hhm83mCuEj41tfX87du3aq1HHXP/sEBLrWQc44gvAi9n0S9QTNngiAIgvAYpJwJgiAIwmOQciYIgiAIj0HKmSAIgiA8BilngiAIgvAYvvX19fx//Od/1VoOgiAIgiBUPgOAQCBQaznqnlwuR/VIEB6F3k+i3iCzNkEQBEF4DFLOBEEQBOExSDkTBEEQhMcg5UzUBVsLDQjcS+Gk1oJUgPN8bwRBlAYpZ8+xiaeNDQjwn4XNWgtGEARBVAlSzh5Fiu8id3yqfmRMzEsXQ0FvLyLQOIL0Ya0FqR01nUlT/ROEJyDlXBdcx914LzD/Flu1FoUgCIKoOKSc6wR/6xUAO9gzzWh4Ezgz47GbAR2mMNrYgKfbxlcnyyP2JnS9HOZa6qzOcp7legXkE3GYwqj0BMAaole1cxZNA5I90zVF5RV5TTAz1e1F/bzRZW3e6lSewA2h198J0ohsdEcAAAzCSURBVPfYstj6XhQOtE6WR9A3D2Algo5SXRoFnpkmEyuv3hYK1P/WgkAOvo3ZXVdvc1xd8eWpx7Gy8XVHEBcFUs51wsneDoAraG1WvzhMYbRRAuRTw/wtX0H0qtpZdt7EBNbw+ndz57b19wjk/jjudqp/LzSgQ+7FR92EvoulT7wJfQ3Rq2/xZ+2YZ2FgeQQdkStYPTau/zEO7OdcyieiOYzn8iSAXix90M57gC7t95UIfsa86XrRq4ySK+WaTNkdv9zUz3s+4HdR3iaeNkrY4V0Qn/ZKNkn7B15gdRxAf9x4JmPXSyjJ+sz82MTTxna8lhh5P8SxI6kK2qn+S76uwpzEfK+6anTle5jC6NUIrrB1/SEOZP9dwr0TRP1DyrkeOEzhh8gaJmSjo9z6ewTyuIz7ncxxncNY6tcUsmIKlyMJZoa2id/mgYmI2mEepvDzfC+W/mp0oIAfocgkZ0LvxdIHcye9l10D+lvRynznH3ihy+MsXwn0x/HjACPpl72QGGvCma7ZH8dHTgk6lne4hx0AV1r9zAHXcf8ZW5+1wvrMTpb/hjmuDtEcxrfjwNwv5YpnsF5Xg22/wHX8eRyQNeWb24OMXlxik3g1h/G8pIEJQdQ/n9VaAEKMHGlHIKL9NYnV41OmYzvB3icAKxIC89ZzJUn5V1FeEfy2/QBdnQC232IOk1jVlE1uDzLWIF9tQNRSymRB+bpuTQLzEXSsKEJOyKeMEnMnX3kp9zVdlNf8FW73A1GpAXOAouA9oZjF7GXXgJU1/ZmZGK++PCY6b2ICTxDV2uK4XKLFgCDOB6ScPYoU31VMq6rptO9eq6XjN46xoTmMb8cj6PtlE/c7P0c6/gRSfJeb1UxitWjTJYDOB8gdP9DNkXOqgmKVtKN8FaDc13QqL/TsFKFninugTxuseFlJe1bpXcf941PcxwnS99oRnVcHRZ6VlyAqC5m1Pc913P8Qh7QSQYfuB/aj9TIgy786+jaVGe7fkN7+Fa9XenH7S0ZlBFoh4Ql+27Y/35HmMJ5rvup+zTzqXr7yUe5rFlde15jmk54EVtbw1oNLkVrb6iHi34/QMy2moB7kdYMWhEdL1ApxsjxyQZLxaIGR4qBQDVLO9YAWqMOsde76hlfYCifLI6ZIbM1HGpUikMe/Q6jZXO6348CcJIhAdnhJthbMEd/Av7G/AkhtnxcnH0+gFRLWjMCyIij5mqWWd5jCKFdP5sA9gYJX4wcK0drWC6zsYc/yi/pSl9iB+Qe+wwSeoI8/f3vRCMyyqX+rYt/EU+lJCVLYsL1oid4WxTXUIyfL44iuTGL1+IX5/asZ1oj9gCWqnyiE00Bia8FmRQQAxUq0i6X+J+grsBLjHJi1VTPY5XNu/up8gJwMBCQJgU+K2fT5cSueNvI+0UmsHrN/+3FT6gVW1jBxy1o/XWOn+Ng2gg7O7yzFd3G/gDhdtybRp/lamXN0E3CzW/k4msP4Mb6GDr1sxezuilKvWXJ5X+E22tHRGOF+M9wEXWO7WLrHHNMfx2q8F7LA7avhH5jHktyOvkZV+WmmXTUATQ/oKxqlU7h0j5dZCeLS7llU/10DL7CabTBkwiRW5UlA2ilJEgudNzEhcfXsZfeAiUJ90CZeRtYgxeeLdx1VGnIZlIjyTNHfK/x1a6EBfZ/i+Histt3tRQSkEVz6wA7OlMDbqPQ3pL8RD9p86+vr+f++3F6hm6gG3lDOtF8sUWlO9OVrJcQIXHAq+37a90HVfGZK3AMfnCnCG30mz8nyiLKss8oDMvf1psT/6BMS0eCRWRLIBsiK67vwc6idWdttYgIUNhFsLbQjugLF5EuJC4hzzF52DVJ8mBRz2VDNuwubXB9j9QXyCXfYPsa+DzrBW3kNGL/JPTMbn6OWhKWopDOGiVqZrTkpmLPB98WW/raIfp2v0w4Hdw+0JEECN5PVdOxEKfWmBC3mjk+VXAQiREsCNeulJf+B+r1NXEXNfc4FExNAG9VMGsku1KQJ2jFdY0ogEsZlcwIJgjhXbOK3eS6gjygP8xJ+u2UkP1kdN/vlldkvmMQsMq5E2o34D9s+SInDsLqTruP+saz4/3VFs4mnVyNAfNflbFZTfurMi0v44va+7f2i9kyYkvJMQo60W851069bkxiJzcQ6nQ+UgMt5ybje9qL+bNwNSspQbwWwJItiEcSR8LkaWGqunAsmJjhM4ed57pjmMH60JNcgiPPOddz3TEDROYNLNNN1a5LpSA2fsVH313FfVldBFExHu4cdyyyKKeNDHNK8hNHlTaTvSZgbl50nFnqKUyYzXdGmaSMinlWMc5Kzgu4aOxUk5QF29sxzwqL7dbd0PlBlHUF6W0k3OyG7eC/KUm/VpebKuSBCE4FdnmmCIIgyI8wChzOtKtDRJxoSorBmqKsm/oF5ZSlk3Dla22zaVk36xWDTrxcnq7ICBfHdiprxK05zK67YtCNvK2eCIIiLgHDpnAA9r4BqWi/bXu/Ksr/CKCZhzUer5+LvL8PlS0R2m3u9YvVmpuiJYwHrireVs83otKBdn3CHYHeqamEKBCl5x6XKyFZTzvO91SvNrbgCq9nW1eyvwKwIAJMzX13zWtQaYy04Sd2o5sxrlNV0tZdb7f2v228xBz4XfwkEWnGWDL76unHdLVDMXZe73jhsdNZeVhQYWBhvK2c9SYZ556EfImzUqjriO8NOQPWIdbtGL26zp0ZEso3/MIUf2OAaj/t96gWlPZBiLz/aBjLjTN2qCVj0pD52fdDnuNRvt6mIEQB2v9OP0F+VhDc/FP3uGv7j1cvKNqOOA25BwhdF4fVi6ZsC76NA8SjnFSly81e43b+G6F/4fsEhWluVXQkAe4Au3S0wXkK7L6He3KDpLNY9sL2oLNUS5Jk4+X0Nss1E0/NJSLrGTrEKNvmBdT1a15iMiUZJT+hfi5zOtaHEvNhVQ3kBQsw3J7+vQe7vxY9OVo/tRQSkHSx9uMBBUEXUgX/gBXIDZ7ucnjyhLhJ/VA//wAt8hDlRjxTfRY7pY+z6oJtSLxB5i62x68x7qq6X7Y/jI5u0R95DQGpHIFva+uOusVPkxlwcGGiFNC9KrOPQl+gyGsmHpLis7NJWlKR+hJ7tAqLkPHKB07YXEZCU/QG098GvJce52oB9x3XKYlzXG7/OGdrGP3zioVOsLjSYEv2I11BrS+2+E9b7OUhC4g2qnYTkzMkNhIvlK8/WQgP64KLzsVNM51lp8/dW5Xs9z8q5dkmCjD2/L8aEgXCNw/vtbbM2UTKOyQIEWE3lgpzbBX+3kUM1a58sj6BvHsz6SpvzD5UlEsAaoldtEkPktKURdvdmzR/sytzXOIL0IXOfukneuTxrnRsyby0I/OuFfMxu6sChrELy8OjPZkUx8RnxAEaiDrZ9PN0u5p6KbzfnB5FZnCBOkI6zrhErpJzrmifo433OTGfpJlmAhjETZ9c+wvAvHaYw2igBpjKvIHrVfUfrH3ihZNbp16I9bWaE2kYf6GUSP7AWgjVE48CPTGIamO5tE08b2/Fa2jVkVZPXOPuV1hC9yiRQeBaG30V5Rj5dNpnFGZb7OdZBYYqVx/psuHiAeQk/YF4vy7W1pQztpt7Rl/5coHsmCqH0J9GVSawWsCCScq5rJk3KlO1Q3SYL0BDtAOQfeKGXsfX3CGQuWYO249Xr36sdgMZFjDZ/hdvMvZ0s/w1z/XH8yJoRtUANYXAOV/YHsxJ0Lk8c6do1VivTewXkcZMgQ4C32k2t0IKPzqErhigBLWK88GDb8wFhROloCd1ZJJs1DMq+zxE9oGWCS9y+9wnACh9EUrjMWrGXXQNW1vR7MWGXE/dM5WmBP1r99NbYJ+4Veeqr3RCEl6CZ87mkhGQBnQ90c60EYE6y+lWl+K55lu7lXOZMnmORZaHc5fkHXujuA8NPXDszppfkqat2QxAegZTzeeQsyQL0TDqKMlfMtso6Tln+tS7Wkre22e/0UvHytEHOsYwJeMB0W1N56qvdEISXIOV8HikhWcDWAh8speyoI7V9DgDo+kZJktAh2K6tIlnGzpC72D/wnbLjD5/5Z3uxpAQtzuWdIH2Pm5VyOZmtCl5NZFGIkuvAWR4RrW297tNIwt09Vb3dEMQ5gXzO55ESkgV03ZpEH3O8cg6zNrM5jOfHrXjaKEpeUPY7UDcFWEOHLlMxCVeu4/7xLi6xSQ4AaMFexeNc3k0JpiQVgNlvrydL0JPpTGJVngSkHfvLllwHfkd5hGcNzGNJbjdkHJeRG/u8wPEu7qna7YYgzgmUhKRM1C7JAUEQTtD7SdQbZNYmCIIgCI9BypkgCIIgPAYpZ4IgCILwGKScCYIgCMJjkHImCIIgCI/x/wFyjBR3i9YDtwAAAABJRU5ErkJggg==)"
      ],
      "metadata": {
        "id": "BbfEiK4IwhOw"
      }
    },
    {
      "cell_type": "markdown",
      "source": [
        ""
      ],
      "metadata": {
        "id": "NaW3VRcuxH3A"
      }
    },
    {
      "cell_type": "markdown",
      "source": [
        "## Conditions"
      ],
      "metadata": {
        "id": "pNj8lsR8xnsY"
      }
    },
    {
      "cell_type": "markdown",
      "source": [
        "In any programming langauge 'if' is a key word used to compaire mathematical operation and return boolean value"
      ],
      "metadata": {
        "id": "o33jqVBhy32H"
      }
    },
    {
      "cell_type": "code",
      "source": [
        "# in this case hello will print only when a is greater than b condition is true\n",
        "a = 20\n",
        "b = 15\n",
        "if (a>b):\n",
        "  print(\"hello\")"
      ],
      "metadata": {
        "colab": {
          "base_uri": "https://localhost:8080/"
        },
        "id": "JNUX0N4jxsl9",
        "outputId": "125d525e-0828-446f-fe4b-60fae1a6dfe9"
      },
      "execution_count": null,
      "outputs": [
        {
          "output_type": "stream",
          "name": "stdout",
          "text": [
            "hello\n"
          ]
        }
      ]
    },
    {
      "cell_type": "code",
      "source": [
        "x = 'Ball'\n",
        "y = 'Ball'\n",
        "if (x == y):\n",
        "  print(\"same\")"
      ],
      "metadata": {
        "colab": {
          "base_uri": "https://localhost:8080/"
        },
        "id": "PdwQ9eLQzTdJ",
        "outputId": "48e83513-a5f5-4f84-df0c-318bdfdbbcad"
      },
      "execution_count": null,
      "outputs": [
        {
          "output_type": "stream",
          "name": "stdout",
          "text": [
            "same\n"
          ]
        }
      ]
    },
    {
      "cell_type": "markdown",
      "source": [
        "The elif keyword, \"if the previous conditions were not true, then try this condition\"."
      ],
      "metadata": {
        "id": "qjt1xY8s0rtK"
      }
    },
    {
      "cell_type": "code",
      "source": [
        "age = 65\n",
        "if (age >= 50):\n",
        "  print('age is more than 50, the age is {}'.format(age))\n",
        "elif(age <= 30):\n",
        "  print('age is less than 30, the age is {}'.format(age))\n",
        "elif(age >= 30):\n",
        "  print('age is between 30 and 50, the age is {}'.format(age))"
      ],
      "metadata": {
        "colab": {
          "base_uri": "https://localhost:8080/"
        },
        "id": "AMOQeWJh1PZp",
        "outputId": "f917fc6c-d6b8-4d5a-f287-40fc0124a8b2"
      },
      "execution_count": null,
      "outputs": [
        {
          "output_type": "stream",
          "name": "stdout",
          "text": [
            "age is more than 50, the age is 65\n"
          ]
        }
      ]
    },
    {
      "cell_type": "code",
      "source": [
        "# Suppose a club is allowing members whose age is between 18 to 45\n",
        "age = 18\n",
        "if (age < 18):\n",
        "  print('Not Eligible')\n",
        "elif (age > 45):\n",
        "  print('Not Eligible')\n",
        "else:\n",
        "  print('Eligible')"
      ],
      "metadata": {
        "colab": {
          "base_uri": "https://localhost:8080/"
        },
        "id": "PMeRi_ao0jHt",
        "outputId": "b1c6fb1f-dbdb-40e5-c1bb-8b653f8b9cc6"
      },
      "execution_count": null,
      "outputs": [
        {
          "output_type": "stream",
          "name": "stdout",
          "text": [
            "Eligible\n"
          ]
        }
      ]
    },
    {
      "cell_type": "code",
      "source": [
        "# This can be write in One line if statement\n",
        "if (a>b): print(\"hello\")\n",
        "print(\"A\") if a > b else print(\"B\")"
      ],
      "metadata": {
        "colab": {
          "base_uri": "https://localhost:8080/"
        },
        "id": "bVDss8Xf23FP",
        "outputId": "0324e4c6-8beb-4f5b-ef2e-fe7f2592dc27"
      },
      "execution_count": null,
      "outputs": [
        {
          "output_type": "stream",
          "name": "stdout",
          "text": [
            "hello\n",
            "A\n"
          ]
        }
      ]
    },
    {
      "cell_type": "markdown",
      "source": [
        "we can use combinations of logical operators in if else statements"
      ],
      "metadata": {
        "id": "rAW8H6O34W0_"
      }
    },
    {
      "cell_type": "code",
      "source": [
        "age = 13\n",
        "if (age>=18 and age<=45):\n",
        "  print('Eligible')\n",
        "else:\n",
        "  print('Not Eligible')"
      ],
      "metadata": {
        "colab": {
          "base_uri": "https://localhost:8080/"
        },
        "id": "MCzaW1973YWt",
        "outputId": "6f1de8cd-39e6-4f90-b8b0-f2dc65dfc501"
      },
      "execution_count": null,
      "outputs": [
        {
          "output_type": "stream",
          "name": "stdout",
          "text": [
            "Not Eligible\n"
          ]
        }
      ]
    },
    {
      "cell_type": "markdown",
      "source": [
        "## Loops"
      ],
      "metadata": {
        "id": "TIdiod9C5LoC"
      }
    },
    {
      "cell_type": "code",
      "source": [
        ""
      ],
      "metadata": {
        "id": "w94r0WGm4yef"
      },
      "execution_count": null,
      "outputs": []
    }
  ]
}